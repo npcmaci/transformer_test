{
 "cells": [
  {
   "cell_type": "code",
   "execution_count": 1,
   "id": "1bda348f",
   "metadata": {
    "ExecuteTime": {
     "end_time": "2024-07-18T09:44:52.483550Z",
     "start_time": "2024-07-18T09:44:52.467541Z"
    }
   },
   "outputs": [],
   "source": [
    "import os\n",
    "os.chdir('C://Users//17731//PycharmProjects//transformer_test_github//transformer_test')\n",
    "data_dir = 'data'\n",
    "if not os.path.exists(data_dir):\n",
    "    os.makedirs(data_dir)"
   ]
  },
  {
   "cell_type": "code",
   "execution_count": 2,
   "id": "89323c04",
   "metadata": {
    "ExecuteTime": {
     "end_time": "2024-07-18T09:45:17.890232Z",
     "start_time": "2024-07-18T09:44:53.576162Z"
    }
   },
   "outputs": [
    {
     "name": "stderr",
     "output_type": "stream",
     "text": [
      "C:\\ProgramData\\anaconda3\\envs\\pytorch\\lib\\site-packages\\tqdm\\auto.py:21: TqdmWarning: IProgress not found. Please update jupyter and ipywidgets. See https://ipywidgets.readthedocs.io/en/stable/user_install.html\n",
      "  from .autonotebook import tqdm as notebook_tqdm\n"
     ]
    },
    {
     "name": "stdout",
     "output_type": "stream",
     "text": [
      "DatasetDict({\n",
      "    train: Dataset({\n",
      "        features: ['translation'],\n",
      "        num_rows: 4508785\n",
      "    })\n",
      "    validation: Dataset({\n",
      "        features: ['translation'],\n",
      "        num_rows: 3000\n",
      "    })\n",
      "    test: Dataset({\n",
      "        features: ['translation'],\n",
      "        num_rows: 3003\n",
      "    })\n",
      "})\n"
     ]
    }
   ],
   "source": [
    "from datasets import load_dataset\n",
    "\n",
    "# 加载WMT 2014 英语-德语数据集\n",
    "dataset = load_dataset('wmt14', 'de-en')\n",
    "\n",
    "# 查看数据集的结构\n",
    "print(dataset)\n"
   ]
  },
  {
   "cell_type": "code",
   "execution_count": 3,
   "id": "2cb381aa",
   "metadata": {
    "ExecuteTime": {
     "end_time": "2024-07-18T09:45:52.731421Z",
     "start_time": "2024-07-18T09:45:21.237059Z"
    }
   },
   "outputs": [],
   "source": [
    "from utils import prepare_training_data\n",
    "\n",
    "prepare_training_data(dataset, 'WMT_de_en')"
   ]
  },
  {
   "cell_type": "code",
   "execution_count": 8,
   "id": "70b3fcd9",
   "metadata": {
    "ExecuteTime": {
     "end_time": "2024-07-18T11:30:21.323398Z",
     "start_time": "2024-07-18T11:20:11.224566Z"
    }
   },
   "outputs": [],
   "source": [
    "import sentencepiece as spm\n",
    "\n",
    "spm.SentencePieceTrainer.Train('--input=data/WMT_de_en_train.txt --model_prefix=bpe --vocab_size=37000 --model_type=bpe')"
   ]
  },
  {
   "cell_type": "code",
   "execution_count": 6,
   "id": "304ba4d7",
   "metadata": {
    "ExecuteTime": {
     "end_time": "2024-07-16T16:08:13.052761Z",
     "start_time": "2024-07-16T16:08:13.042658Z"
    }
   },
   "outputs": [],
   "source": [
    "from utils import generate_padding_mask, generate_future_mask, combine_padding_mask\n",
    "import torch\n",
    "\n",
    "batch_size = 2\n",
    "seq_length = 5\n",
    "source = torch.tensor([\n",
    "    [1, 2, 0, 0, 0],\n",
    "    [4, 5, 6, 0, 0]\n",
    "])\n",
    "\n",
    "target = torch.tensor([\n",
    "    [1, 2, 4, 0, 0],\n",
    "    [4, 5, 6, 9, 0]\n",
    "])\n",
    "\n",
    "\n"
   ]
  },
  {
   "cell_type": "code",
   "execution_count": 18,
   "id": "81892d3c",
   "metadata": {
    "ExecuteTime": {
     "end_time": "2024-07-16T15:07:09.085401Z",
     "start_time": "2024-07-16T15:07:09.066883Z"
    }
   },
   "outputs": [
    {
     "data": {
      "text/plain": [
       "tensor([[[[False, False,  True,  True,  True],\n",
       "          [False, False,  True,  True,  True],\n",
       "          [False, False,  True,  True,  True],\n",
       "          [False, False,  True,  True,  True],\n",
       "          [False, False,  True,  True,  True]]],\n",
       "\n",
       "\n",
       "        [[[False, False, False,  True,  True],\n",
       "          [False, False, False,  True,  True],\n",
       "          [False, False, False,  True,  True],\n",
       "          [False, False, False,  True,  True],\n",
       "          [False, False, False,  True,  True]]]])"
      ]
     },
     "execution_count": 18,
     "metadata": {},
     "output_type": "execute_result"
    }
   ],
   "source": [
    "padding_mask = (source == 0).unsqueeze(1).unsqueeze(2)\n",
    "padding_mask = padding_mask.expand(-1, -1, padding_mask.shape[3], -1)\n",
    "padding_mask"
   ]
  },
  {
   "cell_type": "code",
   "execution_count": 5,
   "id": "e60a5496",
   "metadata": {
    "ExecuteTime": {
     "end_time": "2024-07-09T12:30:33.971142Z",
     "start_time": "2024-07-09T12:30:33.947146Z"
    }
   },
   "outputs": [
    {
     "data": {
      "text/plain": [
       "tensor([[[[False, False,  True,  True,  True],\n",
       "          [False, False,  True,  True,  True],\n",
       "          [False, False,  True,  True,  True],\n",
       "          [ True,  True,  True,  True,  True],\n",
       "          [ True,  True,  True,  True,  True]]],\n",
       "\n",
       "\n",
       "        [[[False, False, False,  True,  True],\n",
       "          [False, False, False,  True,  True],\n",
       "          [False, False, False,  True,  True],\n",
       "          [False, False, False,  True,  True],\n",
       "          [ True,  True,  True,  True,  True]]]])"
      ]
     },
     "execution_count": 5,
     "metadata": {},
     "output_type": "execute_result"
    }
   ],
   "source": [
    "padding_mask = (source == 0).unsqueeze(1).unsqueeze(2)\n",
    "padding_mask.shape\n",
    "padding_mask = padding_mask | padding_mask.transpose(-2, -1)\n",
    "padding_mask.shape\n",
    "\n",
    "padding_mask2 = (target == 0).unsqueeze(1).unsqueeze(2)\n",
    "padding_mask2 = padding_mask2 | padding_mask2.transpose(-2, -1)\n",
    "\n",
    "a = padding_mask2[:, :, 0, :].unsqueeze(3)\n",
    "a.shape\n",
    "b = padding_mask[:, :, :, 0].unsqueeze(2)\n",
    "c = a | b\n",
    "c\n"
   ]
  },
  {
   "cell_type": "code",
   "execution_count": 6,
   "id": "33ff5b57",
   "metadata": {
    "ExecuteTime": {
     "end_time": "2024-07-09T12:30:36.098290Z",
     "start_time": "2024-07-09T12:30:36.082064Z"
    }
   },
   "outputs": [
    {
     "data": {
      "text/plain": [
       "tensor([[False,  True,  True,  True,  True],\n",
       "        [False, False,  True,  True,  True],\n",
       "        [False, False, False,  True,  True],\n",
       "        [False, False, False, False,  True],\n",
       "        [False, False, False, False, False]])"
      ]
     },
     "execution_count": 6,
     "metadata": {},
     "output_type": "execute_result"
    }
   ],
   "source": [
    "size = 5\n",
    "future_mask = torch.triu(torch.ones(size, size, dtype=torch.bool), diagonal=1)\n",
    "future_mask"
   ]
  },
  {
   "cell_type": "code",
   "execution_count": 7,
   "id": "59a83c3c",
   "metadata": {
    "ExecuteTime": {
     "end_time": "2024-07-16T16:08:18.746870Z",
     "start_time": "2024-07-16T16:08:18.726866Z"
    }
   },
   "outputs": [
    {
     "data": {
      "text/plain": [
       "tensor([[[ 0.5084,  0.7560, -0.6812,  ..., -1.3319, -2.4242,  1.7258],\n",
       "         [-0.4914,  1.5277,  2.0529,  ...,  1.5165,  0.0207,  0.3515],\n",
       "         [ 1.6067, -0.0600, -0.5850,  ..., -0.0786, -0.3798, -0.6680],\n",
       "         [ 1.6067, -0.0600, -0.5850,  ..., -0.0786, -0.3798, -0.6680],\n",
       "         [ 1.6067, -0.0600, -0.5850,  ..., -0.0786, -0.3798, -0.6680]],\n",
       "\n",
       "        [[-0.2418,  0.6281,  0.7402,  ...,  1.0797, -1.2930,  2.0868],\n",
       "         [ 1.2005,  1.1456, -1.0344,  ...,  1.7965, -0.2928,  1.0111],\n",
       "         [-0.4898, -1.4720,  1.8794,  ...,  0.2152,  1.2385, -0.2593],\n",
       "         [ 2.4482, -0.5197,  0.2368,  ..., -0.0786, -0.3797, -0.6680],\n",
       "         [ 2.4482, -0.5197,  0.2368,  ..., -0.0786, -0.3797, -0.6680]]],\n",
       "       grad_fn=<AddBackward0>)"
      ]
     },
     "execution_count": 7,
     "metadata": {},
     "output_type": "execute_result"
    }
   ],
   "source": [
    "from models import MachineTranslation\n",
    "import torch.nn as nn\n",
    "from models.positional_encoding import PositionalEncoding\n",
    "d_model = 512\n",
    "n_head = 8\n",
    "n_encoder_layers = 6\n",
    "n_decoder_layers = 6\n",
    "d_feedforward = 2048\n",
    "dropout = 0.1\n",
    "lr = 0.01\n",
    "batch_size = 32\n",
    "pad_token = 0\n",
    "source_vocab_dim = 7\n",
    "target_vocab_dim = 7\n",
    "\n",
    "source = torch.tensor([\n",
    "    [1, 2, 0, 0, 0],\n",
    "    [4, 5, 6, 0, 0]\n",
    "])\n",
    "\n",
    "target = torch.tensor([\n",
    "    [1, 2, 4, 0, 0],\n",
    "    [4, 5, 6, 3, 0]\n",
    "])\n",
    "\n",
    "# model = MachineTranslation(source_vocab_dim, target_vocab_dim, d_model, n_head, n_encoder_layers, n_decoder_layers, d_feedforward, pad_token,\n",
    "#                  dropout)\n",
    "# output = model(source, target)\n",
    "source_embedding = nn.Embedding(source_vocab_dim, d_model)\n",
    "em = source_embedding(source)\n",
    "pe = PositionalEncoding(d_model)\n",
    "output = pe(em)\n",
    "output"
   ]
  }
 ],
 "metadata": {
  "kernelspec": {
   "display_name": "Python [conda env:pytorch]",
   "language": "python",
   "name": "conda-env-pytorch-py"
  },
  "language_info": {
   "codemirror_mode": {
    "name": "ipython",
    "version": 3
   },
   "file_extension": ".py",
   "mimetype": "text/x-python",
   "name": "python",
   "nbconvert_exporter": "python",
   "pygments_lexer": "ipython3",
   "version": "3.9.19"
  }
 },
 "nbformat": 4,
 "nbformat_minor": 5
}
